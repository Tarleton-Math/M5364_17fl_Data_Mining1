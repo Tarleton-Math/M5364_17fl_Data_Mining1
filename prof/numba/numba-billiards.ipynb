{
 "cells": [
  {
   "cell_type": "code",
   "execution_count": 1,
   "metadata": {
    "scrolled": false
   },
   "outputs": [
    {
     "name": "stdout",
     "output_type": "stream",
     "text": [
      "load_gpu\n",
      "num_part = 32, step = 0\n",
      "num_part = 32, step = 1\n",
      "num_part = 32, step = 2\n",
      "num_part = 32, step = 3\n",
      "num_part = 32, step = 4\n",
      "num_part = 32, step = 5\n",
      "num_part = 32, step = 6\n",
      "num_part = 32, step = 7\n",
      "num_part = 32, step = 8\n",
      "num_part = 32, step = 9\n",
      "num_part = 32, step = 10\n",
      "num_part = 32, step = 11\n",
      "num_part = 32, step = 12\n",
      "num_part = 32, step = 13\n",
      "num_part = 32, step = 14\n",
      "num_part = 32, step = 15\n",
      "num_part = 32, step = 16\n",
      "num_part = 32, step = 17\n",
      "num_part = 32, step = 18\n",
      "num_part = 32, step = 19\n",
      "num_part = 32, step = 20\n",
      "num_part = 32, step = 21\n",
      "num_part = 32, step = 22\n",
      "num_part = 32, step = 23\n",
      "num_part = 32, step = 24\n",
      "num_part = 32, step = 25\n",
      "num_part = 32, step = 26\n",
      "num_part = 32, step = 27\n",
      "num_part = 32, step = 28\n",
      "num_part = 32, step = 29\n",
      "num_part = 32, step = 30\n",
      "num_part = 32, step = 31\n",
      "num_part = 32, step = 32\n",
      "num_part = 32, step = 33\n",
      "num_part = 32, step = 34\n",
      "num_part = 32, step = 35\n",
      "num_part = 32, step = 36\n",
      "num_part = 32, step = 37\n",
      "num_part = 32, step = 38\n",
      "num_part = 32, step = 39\n",
      "num_part = 32, step = 40\n",
      "num_part = 32, step = 41\n",
      "num_part = 32, step = 42\n",
      "num_part = 32, step = 43\n",
      "num_part = 32, step = 44\n",
      "num_part = 32, step = 45\n",
      "num_part = 32, step = 46\n",
      "num_part = 32, step = 47\n",
      "num_part = 32, step = 48\n",
      "num_part = 32, step = 49\n",
      "num_part = 32, step = 50\n",
      "num_part = 32, step = 51\n",
      "num_part = 32, step = 52\n",
      "num_part = 32, step = 53\n",
      "num_part = 32, step = 54\n",
      "num_part = 32, step = 55\n",
      "num_part = 32, step = 56\n",
      "num_part = 32, step = 57\n",
      "num_part = 32, step = 58\n",
      "num_part = 32, step = 59\n",
      "num_part = 32, step = 60\n",
      "num_part = 32, step = 61\n",
      "num_part = 32, step = 62\n",
      "num_part = 32, step = 63\n",
      "num_part = 32, step = 64\n",
      "num_part = 32, step = 65\n",
      "num_part = 32, step = 66\n",
      "num_part = 32, step = 67\n",
      "num_part = 32, step = 68\n",
      "num_part = 32, step = 69\n",
      "num_part = 32, step = 70\n",
      "num_part = 32, step = 71\n",
      "num_part = 32, step = 72\n",
      "num_part = 32, step = 73\n",
      "num_part = 32, step = 74\n",
      "num_part = 32, step = 75\n",
      "num_part = 32, step = 76\n",
      "num_part = 32, step = 77\n",
      "num_part = 32, step = 78\n",
      "num_part = 32, step = 79\n",
      "num_part = 32, step = 80\n",
      "num_part = 32, step = 81\n",
      "num_part = 32, step = 82\n",
      "num_part = 32, step = 83\n",
      "num_part = 32, step = 84\n",
      "num_part = 32, step = 85\n",
      "num_part = 32, step = 86\n",
      "num_part = 32, step = 87\n",
      "num_part = 32, step = 88\n",
      "num_part = 32, step = 89\n",
      "num_part = 32, step = 90\n",
      "num_part = 32, step = 91\n",
      "num_part = 32, step = 92\n",
      "num_part = 32, step = 93\n",
      "num_part = 32, step = 94\n",
      "num_part = 32, step = 95\n",
      "num_part = 32, step = 96\n",
      "num_part = 32, step = 97\n",
      "num_part = 32, step = 98\n",
      "num_part = 32, step = 99\n",
      "Done!! #Particles = 32, Steps = 100, Sim Time = 16.463086, Elapsed Time = 2.156484\n"
     ]
    }
   ],
   "source": [
    "%run -i billiard_defs.py\n",
    "\n",
    "### Parameters\n",
    "NP = np.arange(1,2) * sqrt_threads_per_block_max\n",
    "modes = ['serial', 'parallel']\n",
    "modes = ['parallel']\n",
    "run_time = {key:[] for key in modes}\n",
    "pos = {key:[] for key in modes}\n",
    "\n",
    "for num_part in NP:\n",
    "    for mode in modes:\n",
    "        start = timer()\n",
    "        seed = 10\n",
    "        rnd = np.random.RandomState(seed)\n",
    "\n",
    "        dim = 2\n",
    "        side = 10\n",
    "        \n",
    "        ## compute radius so that particles take up a fixed proportion of the volume of the box\n",
    "        density = 0.1\n",
    "        V_box = side**dim\n",
    "        V_part_box = density * V_box / num_part  # volume of little box each particle must fit into\n",
    "        radius = (V_part_box)**(1/dim) / 2\n",
    "        mass = 4\n",
    "\n",
    "        max_steps = 100\n",
    "        max_records = None\n",
    "        try:\n",
    "            rec_period = int(np.ceil(max_steps / max_records))\n",
    "        except:\n",
    "            rec_period = 1\n",
    "        if (rec_period < 1) or (rec_period is np.inf):\n",
    "            rec_period = 1\n",
    "\n",
    "        wall = []\n",
    "        for d in range(dim):\n",
    "            for s in [-1,1]:\n",
    "                v = np.zeros(dim, dtype=np_dtype)\n",
    "                v[d] = s*side\n",
    "                wall.append(FlatWall(base_point=v.copy(), normal=-v.copy()))\n",
    "\n",
    "        part = Particles()\n",
    "\n",
    "        # set any initial positions and velocities here\n",
    "        \n",
    "        part.initialize()\n",
    "\n",
    "#         e = np.full(dim, np.inf)\n",
    "#         for p in range(num_part):\n",
    "#             if \n",
    "#             if p <= part.pos.shape[0]:\n",
    "#                 part.pos = np.vstack([part.pos, e.copy()])\n",
    "#                 part.rand_pos(p)\n",
    "\n",
    "#             if p <= part.vel.shape[0]:\n",
    "#                 part.vel = np.vstack([part.vel, e.copy()])\n",
    "#                 part.rand_vel(p)\n",
    "\n",
    "\n",
    "        part.KE_init = part.get_KE()\n",
    "        part.check()\n",
    "        part.record_state()\n",
    "\n",
    "        if mode == 'parallel':\n",
    "            %run -i gpu_defs.py\n",
    "            #exec(open(\"gpu_defs.py\").read())\n",
    "            load_gpu(part)\n",
    "\n",
    "        def get_col_time(part):\n",
    "            part.get_pw_col_time_cpu()\n",
    "\n",
    "            if mode == 'parallel':\n",
    "                get_pp_col_time_gpu(part)\n",
    "            else:\n",
    "                part.get_pp_col_time_cpu()\n",
    "\n",
    "            part.dt = min([np.min(part.pp_dt), np.min(part.pw_dt)])\n",
    "            return part.dt\n",
    "        \n",
    "        for step in range(max_steps):\n",
    "            next_state(part)\n",
    "            if mode == 'parallel':\n",
    "                update_gpu(part)\n",
    "        #         disp_gpu(part.pos_smrt)\n",
    "                check_sync()\n",
    "                part.check()\n",
    "\n",
    "            if step % rec_period == 0:        \n",
    "                print('num_part = {}, step = {}'.format(part.num,step))\n",
    "                part.record_state()\n",
    "                part.check()\n",
    "                \n",
    "        part.clean_up()\n",
    "        elapsed = timer() - start\n",
    "        print('Done!! #Particles = {}, Steps = {}, Sim Time = {:2f}, Elapsed Time = {:2f}'.format(part.num, len(part.t_hist)-1, part.t_hist[-1], elapsed))\n",
    "        run_time[mode].append(elapsed)\n",
    "        pos[mode].append(part.pos_hist.copy())\n",
    "#     print(pos['serial'][-1] - pos['parallel'][-1])\n",
    "#     assert np.allclose(pos['serial'][-1], pos['parallel'][-1])"
   ]
  },
  {
   "cell_type": "code",
   "execution_count": 4,
   "metadata": {},
   "outputs": [
    {
     "data": {
      "application/vnd.jupyter.widget-view+json": {
       "model_id": "82aea6db83564b7faeb62f8c28e8b1dd",
       "version_major": 2,
       "version_minor": 0
      },
      "text/html": [
       "<p>Failed to display Jupyter Widget of type <code>HBox</code>.</p>\n",
       "<p>\n",
       "  If you're reading this message in the Jupyter Notebook or JupyterLab Notebook, it may mean\n",
       "  that the widgets JavaScript is still loading. If this message persists, it\n",
       "  likely means that the widgets JavaScript library is either not installed or\n",
       "  not enabled. See the <a href=\"https://ipywidgets.readthedocs.io/en/stable/user_install.html\">Jupyter\n",
       "  Widgets Documentation</a> for setup instructions.\n",
       "</p>\n",
       "<p>\n",
       "  If you're reading this message in another frontend (for example, a static\n",
       "  rendering on GitHub or <a href=\"https://nbviewer.jupyter.org/\">NBViewer</a>),\n",
       "  it may mean that your frontend doesn't currently support widgets.\n",
       "</p>\n"
      ],
      "text/plain": [
       "HBox(children=(VBox(children=(BoundedIntText(value=0, layout=Layout(width='150px')), IntSlider(value=0, continuous_update=False, layout=Layout(width='150px'), readout=False), Play(value=0, interval=50, layout=Layout(width='150px')))), Output()))"
      ]
     },
     "metadata": {},
     "output_type": "display_data"
    }
   ],
   "source": [
    "if dim != 2:\n",
    "    raise Exception('only works in 2D')\n",
    "    \n",
    "num_steps = len(part.t_hist)\n",
    "\n",
    "mesh = np.linspace(0,2*np.pi,100)\n",
    "circle = [np.cos(mesh), np.sin(mesh)]\n",
    "circle = radius * np.array(circle)\n",
    "def draw(s=0):\n",
    "    s %= num_steps\n",
    "    fig, ax = plt.subplots(figsize=[8,8]);\n",
    "    ax.plot([side,-side,-side,side,side], [side,side,-side,-side,side], color='black')    \n",
    "    for p in range(part.num):\n",
    "        ax.plot(part.pos_hist[:s+1,p,0], part.pos_hist[:s+1,p,1], color=part.clr[p])\n",
    "        center = part.pos_hist[s,p]\n",
    "        bdy = circle + center[:,np.newaxis]\n",
    "        ax.plot(*bdy, color=part.clr[p])\n",
    "    ax.set_aspect('equal')\n",
    "    \n",
    "\n",
    "l = widgets.Layout(width='150px')\n",
    "step_text = widgets.BoundedIntText(min=0, max=num_steps-1, value=0, layout=l)\n",
    "step_slider = widgets.IntSlider(min=0, max=num_steps-1, value=0, readout=False, continuous_update=False, layout=l)\n",
    "play_button = widgets.Play(min=0, max=num_steps-1, step=1, interval=50, layout=l)\n",
    "\n",
    "widgets.jslink((step_text, 'value'), (step_slider, 'value'))\n",
    "widgets.jslink((step_text, 'value'), (play_button, 'value'))\n",
    "\n",
    "img = widgets.interactive_output(draw, {'s':step_text})\n",
    "display(widgets.HBox([widgets.VBox([step_text, step_slider, play_button]), img]))\n"
   ]
  },
  {
   "cell_type": "code",
   "execution_count": 3,
   "metadata": {},
   "outputs": [
    {
     "name": "stdout",
     "output_type": "stream",
     "text": [
      "False\n"
     ]
    },
    {
     "name": "stderr",
     "output_type": "stream",
     "text": [
      "gpu_defs.py:3: RuntimeWarning: invalid value encountered in subtract\n",
      "  import numba.cuda as cuda\n"
     ]
    },
    {
     "data": {
      "text/plain": [
       "array([ 5.96046448e-08,  1.19209290e-06,  7.15255737e-07,  1.90734863e-06,\n",
       "       -2.19345093e-05, -1.90734863e-05,  7.15255737e-07, -3.57627869e-07,\n",
       "        9.53674316e-07,  3.57627869e-07,             nan, -5.96046448e-08,\n",
       "        3.05175781e-05,  0.00000000e+00,             inf,  5.72204590e-06,\n",
       "        0.00000000e+00, -1.19209290e-07,             nan,  3.33786011e-06,\n",
       "        7.15255737e-07,             nan, -4.76837158e-07, -5.96046448e-07,\n",
       "       -5.96046448e-08,  9.53674316e-07,  3.57627869e-07, -2.38418579e-07,\n",
       "       -1.49011612e-08,             nan,             nan, -2.38418579e-07,\n",
       "       -6.43730164e-06,             nan,             nan,  1.85966492e-05,\n",
       "       -4.76837158e-07,  1.43051147e-06,  5.96046448e-08,  1.43051147e-06,\n",
       "       -2.38418579e-07, -2.38418579e-07,             nan,             nan,\n",
       "                   nan, -1.19209290e-06, -1.43051147e-05,  0.00000000e+00,\n",
       "        4.29153442e-06,  1.90734863e-06, -1.95503235e-05, -1.49011612e-08,\n",
       "                   nan, -3.81469727e-06,             nan,             nan,\n",
       "       -2.38418579e-07,  1.31130219e-05,             nan,  3.57627869e-07,\n",
       "        0.00000000e+00, -4.76837158e-06, -5.36441803e-07, -1.90734863e-06,\n",
       "        0.00000000e+00, -2.38418579e-07,  7.15255737e-07,             nan,\n",
       "                   nan,             nan,             nan, -2.38418579e-07,\n",
       "       -1.90734863e-06, -2.28881836e-05, -1.90734863e-06,             nan,\n",
       "       -8.94069672e-07, -5.36441803e-07,  5.53131104e-05, -1.54972076e-06,\n",
       "                   nan,  3.33786011e-05, -1.19209290e-07,  4.76837158e-06,\n",
       "        7.45058060e-09,             nan,             nan,  2.14576721e-06,\n",
       "       -2.98023224e-08,  1.49011612e-07,  0.00000000e+00, -3.81469727e-06,\n",
       "        5.96046448e-08,  0.00000000e+00, -2.98023224e-08,  4.76837158e-07,\n",
       "       -3.09944153e-06,  0.00000000e+00, -1.09672546e-05,             nan,\n",
       "                   nan,  8.48770142e-05,  9.91821289e-05,             nan,\n",
       "       -2.98023224e-08, -2.38418579e-07, -7.15255737e-07, -3.57627869e-06,\n",
       "                   nan, -8.58306885e-06,  5.96046448e-08, -4.76837158e-07,\n",
       "        4.29153442e-06,             nan,  8.10623169e-06, -1.54972076e-06,\n",
       "       -1.19209290e-06, -2.38418579e-07,  0.00000000e+00,  3.33786011e-05,\n",
       "                   nan,  0.00000000e+00, -9.53674316e-07,  5.96046448e-08,\n",
       "       -1.95503235e-05,  1.78813934e-07,             nan,             nan,\n",
       "       -5.96046448e-08,  5.72204590e-06, -9.53674316e-07,  0.00000000e+00,\n",
       "       -2.98023224e-08, -9.53674316e-07,  4.76837158e-07,  0.00000000e+00,\n",
       "        8.10623169e-06, -8.58306885e-06,  3.81469727e-05,  0.00000000e+00,\n",
       "                   nan, -1.95503235e-05,             nan,  2.86102295e-06,\n",
       "        7.45058060e-09,             nan, -5.96046448e-08, -3.81469727e-06,\n",
       "                   nan,  1.43051147e-06,             nan,             nan,\n",
       "       -4.05311584e-06,             nan, -1.09672546e-05,  3.33786011e-06,\n",
       "        7.15255737e-07, -4.29153442e-06, -2.38418579e-07, -2.38418579e-07])"
      ]
     },
     "execution_count": 3,
     "metadata": {},
     "output_type": "execute_result"
    }
   ],
   "source": [
    "print(np.allclose(part.pp_dt, part.pp_dt_gpu, rtol=1e-3))\n",
    "np.set_printoptions(precision=8, suppress=False)\n",
    "d = (part.pp_dt- part.pp_dt_gpu)#/part.pp_dt\n",
    "np.nanmax(np.abs(d))\n",
    "# d[14]\n",
    "# part.pp_dt[14]\n",
    "# part.pp_dt_gpu[14]\n",
    "part.pp_dt\n",
    "d"
   ]
  },
  {
   "cell_type": "code",
   "execution_count": 14,
   "metadata": {},
   "outputs": [
    {
     "name": "stdout",
     "output_type": "stream",
     "text": [
      "[ 5.58  1.42  2.58  1.72   inf  0.02  2.     inf  6.83   inf  4.16   inf\n",
      "   inf   inf  1.72  0.89   inf   inf  0.05 10.16  0.05 10.6   2.    6.83\n",
      "   inf  4.21  1.42 13.42  4.43  0.02  4.43  0.89]\n",
      "[ 5.58  1.42  2.58  1.72   inf  0.02  2.     inf  6.83   inf  4.16   inf\n",
      "   inf   inf  1.72  0.89   inf   inf  0.05 10.16  0.05 10.6   2.    6.83\n",
      "   inf  4.21  1.42 13.42  4.43  0.02  4.43  0.89]\n",
      "[ 0. -0. -0. -0. -0. -0.  0. -0.  0.  0.  0.  0.  0. -0. -0.  0.  0. -0.\n",
      "  0.  0. -0.  0.  0.]\n",
      "[inf inf inf inf inf inf inf inf inf]\n",
      "[inf inf inf inf inf inf inf inf inf]\n"
     ]
    },
    {
     "name": "stderr",
     "output_type": "stream",
     "text": [
      "gpu_defs.py:4: RuntimeWarning: invalid value encountered in subtract\n",
      "  nb_dtype = nb.float32\n"
     ]
    }
   ],
   "source": [
    "idx = np.isinf(part.pp_dt_gpu)\n",
    "print(part.pp_dt_gpu)\n",
    "print(part.pp_dt)\n",
    "d = part.pp_dt_gpu-part.pp_dt\n",
    "print(d[~idx])\n",
    "print(part.pp_dt_gpu[idx])\n",
    "print(part.pp_dt[idx])"
   ]
  },
  {
   "cell_type": "code",
   "execution_count": 12,
   "metadata": {},
   "outputs": [
    {
     "name": "stdout",
     "output_type": "stream",
     "text": [
      "[[0. 0.]\n",
      " [0. 0.]\n",
      " [0. 0.]\n",
      " [0. 0.]\n",
      " [0. 0.]\n",
      " [0. 0.]\n",
      " [0. 0.]\n",
      " [0. 0.]\n",
      " [0. 0.]\n",
      " [0. 0.]\n",
      " [0. 0.]\n",
      " [0. 0.]\n",
      " [0. 0.]\n",
      " [0. 0.]\n",
      " [0. 0.]\n",
      " [0. 0.]\n",
      " [0. 0.]\n",
      " [0. 0.]\n",
      " [0. 0.]\n",
      " [0. 0.]\n",
      " [0. 0.]\n",
      " [0. 0.]\n",
      " [0. 0.]\n",
      " [0. 0.]\n",
      " [0. 0.]\n",
      " [0. 0.]\n",
      " [0. 0.]\n",
      " [0. 0.]\n",
      " [0. 0.]\n",
      " [0. 0.]\n",
      " [0. 0.]\n",
      " [0. 0.]]\n"
     ]
    }
   ],
   "source": [
    "check_sync(part)\n",
    "c = part.pos\n",
    "s = part.pos_smrt\n",
    "# print(s.get('host')-c)\n",
    "print(s.get('gpu')-c)"
   ]
  },
  {
   "cell_type": "code",
   "execution_count": 7,
   "metadata": {},
   "outputs": [
    {
     "data": {
      "image/png": "[encoded data removed]",
      "text/plain": [
       "<matplotlib.figure.Figure at 0x2168d6105c0>"
      ]
     },
     "metadata": {},
     "output_type": "display_data"
    }
   ],
   "source": [
    "w = min([len(t) for k,t in run_time.items()])\n",
    "for mode, time in run_time.items():\n",
    "    plt.plot(NP[:w], run_time[mode][:w], label=mode)\n",
    "plt.legend()\n",
    "plt.xlabel('number of particles')\n",
    "plt.ylabel('run time')\n",
    "plt.title('number of steps = {}'.format(max_steps))\n",
    "plt.show()"
   ]
  },
  {
   "cell_type": "code",
   "execution_count": 5,
   "metadata": {},
   "outputs": [
    {
     "name": "stdout",
     "output_type": "stream",
     "text": [
      "False\n",
      "False\n",
      "109 µs ± 10 µs per loop (mean ± std. dev. of 7 runs, 10000 loops each)\n",
      "4.3 µs ± 1.32 µs per loop (mean ± std. dev. of 7 runs, 100000 loops each)\n",
      "5.84 µs ± 1.29 µs per loop (mean ± std. dev. of 7 runs, 100000 loops each)\n"
     ]
    }
   ],
   "source": [
    "update_gpu(part)\n",
    "A = part.pp_dt_block_smrt\n",
    "# print(A.get('gpu').copy_to_host())\n",
    "def f1():\n",
    "    return A.get('gpu').copy_to_host().min(axis=1)\n",
    "\n",
    "def f2():\n",
    "    return A.min(axis=1)\n",
    "\n",
    "def f3():\n",
    "    return cuda.np.min(A,axis=1)\n",
    "\n",
    "print(np.allclose(f1(),f2()))\n",
    "print(np.allclose(f1(),f3()))\n",
    "%timeit f1()\n",
    "%timeit f2()\n",
    "%timeit f3()"
   ]
  },
  {
   "cell_type": "code",
   "execution_count": 16,
   "metadata": {},
   "outputs": [
    {
     "name": "stdout",
     "output_type": "stream",
     "text": [
      "Help on method mark_changed in module numba.smartarray:\n",
      "\n",
      "mark_changed(where='host') method of numba.smartarray.SmartArray instance\n",
      "    Mark the given location as changed, broadcast updates if needed.\n",
      "\n",
      "[inf inf inf inf]\n",
      "[inf inf inf inf]\n",
      "[inf inf inf inf]\n"
     ]
    }
   ],
   "source": [
    "# disp_gpu(part.pp_dt_block_smrt)\n",
    "# part.pp_dt_block_smrt.mark_changed('gpu')\n",
    "help(part.pp_dt_block_smrt.mark_changed)\n",
    "# print(part.pp_dt_block_smrt.get('gpu').copy_to_host())\n",
    "# print(part.pp_dt_block_smrt.get('host'))\n",
    "cuda.synchronize()\n",
    "print(part.pp_dt_block_smrt.min(axis=1))\n",
    "print(cuda.np.min(part.pp_dt_block_smrt,axis=1))\n",
    "print(part.pp_dt_block_smrt.get('gpu').copy_to_host().min(axis=1))"
   ]
  },
  {
   "cell_type": "code",
   "execution_count": 20,
   "metadata": {},
   "outputs": [
    {
     "name": "stdout",
     "output_type": "stream",
     "text": [
      "[[    0.57     0.34     0.6      0.69]\n",
      " [    0.93 12345.       0.28     0.79]\n",
      " [    0.83     0.03     0.56     0.2 ]]\n",
      "[[    0.57     0.34     0.6      0.69]\n",
      " [    0.93 12345.       0.28     0.79]\n",
      " [    0.83     0.03     0.56     0.2 ]]\n",
      "[[    0.57     0.34     0.6      0.69]\n",
      " [    0.93 12345.       0.28     0.79]\n",
      " [    0.83     0.03     0.56     0.2 ]]\n",
      "[[    1.72     1.02     1.8      2.06]\n",
      " [    2.79 37035.       0.84     2.38]\n",
      " [    2.48     0.1      1.68     0.6 ]]\n",
      "[[    172.4      102.2      180.05     206.09]\n",
      " [    279.04 3703500.        83.56     238.29]\n",
      " [    248.36       9.59     168.5       60.32]]\n",
      "[[    0.57     0.34     0.6      0.69]\n",
      " [    0.93 12345.       0.28     0.79]\n",
      " [    0.83     0.03     0.56     0.2 ]]\n",
      "[[    172.4      102.2      180.05     206.09]\n",
      " [    279.04 3703500.        83.56     238.29]\n",
      " [    248.36       9.59     168.5       60.32]]\n"
     ]
    }
   ],
   "source": [
    "import numpy as np\n",
    "np.set_printoptions(precision=2, suppress=True)\n",
    "import numba as nb\n",
    "import numba.cuda as cuda\n",
    "\n",
    "\n",
    "A = np.random.rand(3,4)\n",
    "A_smrt = nb.SmartArray(A)\n",
    "A = A_smrt.get('host')\n",
    "A[1,1]=12345\n",
    "# A_smrt[1,1]=12345\n",
    "print(A)\n",
    "print(A_smrt.get('host'))\n",
    "print(A_smrt.get('gpu').copy_to_host())\n",
    "print(A*3)\n",
    "A*=300\n",
    "print(A_smrt.get('host'))\n",
    "print(A_smrt.get('gpu').copy_to_host())\n",
    "A_smrt.mark_changed()\n",
    "print(A_smrt.get('gpu').copy_to_host())"
   ]
  },
  {
   "cell_type": "code",
   "execution_count": 11,
   "metadata": {},
   "outputs": [
    {
     "name": "stdout",
     "output_type": "stream",
     "text": [
      "[[0.35 0.94 0.35 0.3 ]\n",
      " [0.   0.75 0.64 0.18]\n",
      " [0.04 0.29 0.58 0.72]]\n",
      "[[   0.35    0.94    0.35    0.3 ]\n",
      " [   0.   1234.      0.64    0.18]\n",
      " [   0.04    0.29    0.58    0.72]]\n",
      "[[   0.35    0.94    0.35    0.3 ]\n",
      " [   0.   1234.    456.      0.18]\n",
      " [   0.04    0.29    0.58    0.72]]\n",
      "[[   0.35    0.94    0.35    0.3 ]\n",
      " [   0.   1234.      0.64    0.18]\n",
      " [   0.04    0.29    0.58    0.72]]\n",
      "[[   0.35    0.94    0.35    0.3 ]\n",
      " [   0.   1234.    456.      0.18]\n",
      " [   0.04    0.29    0.58    0.72]]\n"
     ]
    }
   ],
   "source": [
    "import numpy as np\n",
    "np.set_printoptions(precision=2, suppress=True)\n",
    "import numba as nb\n",
    "import numba.cuda as cuda\n",
    "\n",
    "\n",
    "A = np.random.rand(3,4)\n",
    "A_smrt = nb.SmartArray(A)\n",
    "A = A_smrt.get('host')\n",
    "print(A.get('host'))\n",
    "A[1,1]=1234\n",
    "\n",
    "# print(A.get('host'))\n",
    "print(A.get('gpu').copy_to_host())\n",
    "# A.mark_changed()\n",
    "# print(A.get('gpu').copy_to_host())\n",
    "B = A.get('host')\n",
    "B*3\n",
    "B[1,2] =456\n",
    "print(A.get('host'))\n",
    "print(A.get('gpu').copy_to_host())\n",
    "A.mark_changed()\n",
    "print(A.get('gpu').copy_to_host())\n"
   ]
  },
  {
   "cell_type": "code",
   "execution_count": 24,
   "metadata": {},
   "outputs": [
    {
     "ename": "ValueError",
     "evalue": "no associated writeback array",
     "output_type": "error",
     "traceback": [
      "\u001b[1;31m---------------------------------------------------------------------------\u001b[0m",
      "\u001b[1;31mValueError\u001b[0m                                Traceback (most recent call last)",
      "\u001b[1;32m<ipython-input-24-302e01102a84>\u001b[0m in \u001b[0;36m<module>\u001b[1;34m()\u001b[0m\n\u001b[0;32m      1\u001b[0m \u001b[0mtype\u001b[0m\u001b[1;33m(\u001b[0m\u001b[0mA\u001b[0m\u001b[1;33m.\u001b[0m\u001b[0mget\u001b[0m\u001b[1;33m(\u001b[0m\u001b[1;34m'host'\u001b[0m\u001b[1;33m)\u001b[0m\u001b[1;33m)\u001b[0m\u001b[1;33m\u001b[0m\u001b[0m\n\u001b[1;32m----> 2\u001b[1;33m \u001b[0mtype\u001b[0m\u001b[1;33m(\u001b[0m\u001b[0mA\u001b[0m\u001b[1;33m.\u001b[0m\u001b[0mget\u001b[0m\u001b[1;33m(\u001b[0m\u001b[1;34m'gpu'\u001b[0m\u001b[1;33m)\u001b[0m\u001b[1;33m.\u001b[0m\u001b[0mto_host\u001b[0m\u001b[1;33m(\u001b[0m\u001b[1;33m)\u001b[0m\u001b[1;33m)\u001b[0m\u001b[1;33m\u001b[0m\u001b[0m\n\u001b[0m",
      "\u001b[1;32mC:\\ProgramData\\Anaconda3\\lib\\site-packages\\numba\\cuda\\cudadrv\\devicearray.py\u001b[0m in \u001b[0;36mto_host\u001b[1;34m(self, stream)\u001b[0m\n\u001b[0;32m    251\u001b[0m                       DeprecationWarning)\n\u001b[0;32m    252\u001b[0m         \u001b[1;32mif\u001b[0m \u001b[0mself\u001b[0m\u001b[1;33m.\u001b[0m\u001b[0m__writeback\u001b[0m \u001b[1;32mis\u001b[0m \u001b[1;32mNone\u001b[0m\u001b[1;33m:\u001b[0m\u001b[1;33m\u001b[0m\u001b[0m\n\u001b[1;32m--> 253\u001b[1;33m             \u001b[1;32mraise\u001b[0m \u001b[0mValueError\u001b[0m\u001b[1;33m(\u001b[0m\u001b[1;34m\"no associated writeback array\"\u001b[0m\u001b[1;33m)\u001b[0m\u001b[1;33m\u001b[0m\u001b[0m\n\u001b[0m\u001b[0;32m    254\u001b[0m         \u001b[0mself\u001b[0m\u001b[1;33m.\u001b[0m\u001b[0mcopy_to_host\u001b[0m\u001b[1;33m(\u001b[0m\u001b[0mself\u001b[0m\u001b[1;33m.\u001b[0m\u001b[0m__writeback\u001b[0m\u001b[1;33m,\u001b[0m \u001b[0mstream\u001b[0m\u001b[1;33m=\u001b[0m\u001b[0mstream\u001b[0m\u001b[1;33m)\u001b[0m\u001b[1;33m\u001b[0m\u001b[0m\n\u001b[0;32m    255\u001b[0m \u001b[1;33m\u001b[0m\u001b[0m\n",
      "\u001b[1;31mValueError\u001b[0m: no associated writeback array"
     ]
    }
   ],
   "source": [
    "type(A.get('host'))\n",
    "type(A.get('gpu').to_host())"
   ]
  },
  {
   "cell_type": "code",
   "execution_count": 31,
   "metadata": {},
   "outputs": [],
   "source": [
    "import numba as nb\n",
    "import numba.cuda as cuda\n",
    "\n",
    "A = np.random.rand(3,4)\n",
    "A\n",
    "A = nb.SmartArray(A)\n",
    "A\n",
    "A?"
   ]
  },
  {
   "cell_type": "code",
   "execution_count": 13,
   "metadata": {},
   "outputs": [
    {
     "name": "stdout",
     "output_type": "stream",
     "text": [
      "[[-5.53 -5.33 -2.37]\n",
      " [ 0.06  4.13 -7.  ]\n",
      " [ 4.84 -2.67  4.4 ]\n",
      " [-4.44  2.43  4.63]]\n",
      "host\n",
      "[[-5.53 -5.33 -2.37]\n",
      " [ 0.06  4.13 -7.  ]\n",
      " [ 4.84 -2.67  4.4 ]\n",
      " [-4.44  2.43  4.63]]\n",
      "device\n",
      "[[-5.53 -5.33 -2.37]\n",
      " [ 0.06  4.13 -7.  ]\n",
      " [ 4.84 -2.67  4.4 ]\n",
      " [-4.44  2.43  4.63]]\n"
     ]
    }
   ],
   "source": []
  },
  {
   "cell_type": "code",
   "execution_count": 3,
   "metadata": {},
   "outputs": [
    {
     "data": {
      "text/plain": [
       "(101,)"
      ]
     },
     "execution_count": 3,
     "metadata": {},
     "output_type": "execute_result"
    }
   ],
   "source": [
    "part.t_hist.shape"
   ]
  },
  {
   "cell_type": "code",
   "execution_count": 16,
   "metadata": {},
   "outputs": [
    {
     "ename": "ValueError",
     "evalue": "operands could not be broadcast together with shapes (2,) (2,100) ",
     "output_type": "error",
     "traceback": [
      "\u001b[1;31m---------------------------------------------------------------------------\u001b[0m",
      "\u001b[1;31mValueError\u001b[0m                                Traceback (most recent call last)",
      "\u001b[1;32m<ipython-input-16-0838cd907fd4>\u001b[0m in \u001b[0;36m<module>\u001b[1;34m()\u001b[0m\n\u001b[1;32m----> 1\u001b[1;33m \u001b[0mpart\u001b[0m\u001b[1;33m.\u001b[0m\u001b[0mpos_hist\u001b[0m\u001b[1;33m[\u001b[0m\u001b[1;36m5\u001b[0m\u001b[1;33m,\u001b[0m\u001b[1;36m2\u001b[0m\u001b[1;33m]\u001b[0m\u001b[1;33m+\u001b[0m\u001b[0mcircle\u001b[0m\u001b[1;33m\u001b[0m\u001b[0m\n\u001b[0m",
      "\u001b[1;31mValueError\u001b[0m: operands could not be broadcast together with shapes (2,) (2,100) "
     ]
    }
   ],
   "source": [
    "part.pos_hist[5,2]+circle"
   ]
  },
  {
   "cell_type": "code",
   "execution_count": 24,
   "metadata": {},
   "outputs": [
    {
     "name": "stdout",
     "output_type": "stream",
     "text": [
      "None None\n",
      "5.51 µs ± 95.2 ns per loop (mean ± std. dev. of 7 runs, 100000 loops each)\n",
      "2.9 µs ± 38.3 ns per loop (mean ± std. dev. of 7 runs, 100000 loops each)\n"
     ]
    }
   ],
   "source": [
    "A = np.zeros([100,5])\n",
    "A[15,2] = 1.0\n",
    "counts = contract(A)\n",
    "\n",
    "def f1():\n",
    "    z = np.nonzero(A)\n",
    "    p,w = z[0][0], z[1][0]\n",
    "#     return p,w\n",
    "    \n",
    "def f2():\n",
    "    p = np.argmax(counts)\n",
    "    w = np.argmax(A[p])\n",
    "#     return p,w\n",
    "\n",
    "print(f1(),f2())\n",
    "%timeit f1()\n",
    "%timeit f2()"
   ]
  },
  {
   "cell_type": "code",
   "execution_count": 14,
   "metadata": {},
   "outputs": [
    {
     "data": {
      "text/plain": [
       "array([[ 2.61409942, -7.98069235, -3.64528625]])"
      ]
     },
     "execution_count": 14,
     "metadata": {},
     "output_type": "execute_result"
    }
   ],
   "source": [
    "part.pw_gap\n",
    "# part.pos\n",
    "w = wall[1]\n",
    "w.base_point, w.normal_static\n",
    "dx = part.pos - w.base_point\n",
    "dx.dot(w.normal_static)\n",
    "w.normal_static\n",
    "dx\n",
    "part.pos"
   ]
  },
  {
   "cell_type": "code",
   "execution_count": 27,
   "metadata": {},
   "outputs": [
    {
     "ename": "TypeError",
     "evalue": "'list' object cannot be interpreted as an integer",
     "output_type": "error",
     "traceback": [
      "\u001b[1;31m---------------------------------------------------------------------------\u001b[0m",
      "\u001b[1;31mTypeError\u001b[0m                                 Traceback (most recent call last)",
      "\u001b[1;32m<ipython-input-27-509be3b41c1c>\u001b[0m in \u001b[0;36m<module>\u001b[1;34m()\u001b[0m\n\u001b[0;32m      1\u001b[0m \u001b[0mA\u001b[0m \u001b[1;33m=\u001b[0m \u001b[0mnp\u001b[0m\u001b[1;33m.\u001b[0m\u001b[0mrandom\u001b[0m\u001b[1;33m.\u001b[0m\u001b[0mrand\u001b[0m\u001b[1;33m(\u001b[0m\u001b[1;36m3\u001b[0m\u001b[1;33m,\u001b[0m\u001b[1;36m4\u001b[0m\u001b[1;33m,\u001b[0m\u001b[1;36m5\u001b[0m\u001b[1;33m)\u001b[0m\u001b[1;33m\u001b[0m\u001b[0m\n\u001b[0;32m      2\u001b[0m \u001b[0mA\u001b[0m\u001b[1;33m.\u001b[0m\u001b[0mshape\u001b[0m\u001b[1;33m\u001b[0m\u001b[0m\n\u001b[1;32m----> 3\u001b[1;33m \u001b[0mnp\u001b[0m\u001b[1;33m.\u001b[0m\u001b[0msum\u001b[0m\u001b[1;33m(\u001b[0m\u001b[0mA\u001b[0m\u001b[1;33m,\u001b[0m\u001b[0maxis\u001b[0m\u001b[1;33m=\u001b[0m\u001b[1;33m[\u001b[0m\u001b[1;36m1\u001b[0m\u001b[1;33m,\u001b[0m\u001b[1;36m2\u001b[0m\u001b[1;33m]\u001b[0m\u001b[1;33m)\u001b[0m\u001b[1;33m\u001b[0m\u001b[0m\n\u001b[0m",
      "\u001b[1;32mC:\\ProgramData\\Anaconda3\\lib\\site-packages\\numpy\\core\\fromnumeric.py\u001b[0m in \u001b[0;36msum\u001b[1;34m(a, axis, dtype, out, keepdims)\u001b[0m\n\u001b[0;32m   1880\u001b[0m             \u001b[1;32mreturn\u001b[0m \u001b[0msum\u001b[0m\u001b[1;33m(\u001b[0m\u001b[0maxis\u001b[0m\u001b[1;33m=\u001b[0m\u001b[0maxis\u001b[0m\u001b[1;33m,\u001b[0m \u001b[0mdtype\u001b[0m\u001b[1;33m=\u001b[0m\u001b[0mdtype\u001b[0m\u001b[1;33m,\u001b[0m \u001b[0mout\u001b[0m\u001b[1;33m=\u001b[0m\u001b[0mout\u001b[0m\u001b[1;33m,\u001b[0m \u001b[1;33m**\u001b[0m\u001b[0mkwargs\u001b[0m\u001b[1;33m)\u001b[0m\u001b[1;33m\u001b[0m\u001b[0m\n\u001b[0;32m   1881\u001b[0m     return _methods._sum(a, axis=axis, dtype=dtype,\n\u001b[1;32m-> 1882\u001b[1;33m                          out=out, **kwargs)\n\u001b[0m\u001b[0;32m   1883\u001b[0m \u001b[1;33m\u001b[0m\u001b[0m\n\u001b[0;32m   1884\u001b[0m \u001b[1;33m\u001b[0m\u001b[0m\n",
      "\u001b[1;32mC:\\ProgramData\\Anaconda3\\lib\\site-packages\\numpy\\core\\_methods.py\u001b[0m in \u001b[0;36m_sum\u001b[1;34m(a, axis, dtype, out, keepdims)\u001b[0m\n\u001b[0;32m     30\u001b[0m \u001b[1;33m\u001b[0m\u001b[0m\n\u001b[0;32m     31\u001b[0m \u001b[1;32mdef\u001b[0m \u001b[0m_sum\u001b[0m\u001b[1;33m(\u001b[0m\u001b[0ma\u001b[0m\u001b[1;33m,\u001b[0m \u001b[0maxis\u001b[0m\u001b[1;33m=\u001b[0m\u001b[1;32mNone\u001b[0m\u001b[1;33m,\u001b[0m \u001b[0mdtype\u001b[0m\u001b[1;33m=\u001b[0m\u001b[1;32mNone\u001b[0m\u001b[1;33m,\u001b[0m \u001b[0mout\u001b[0m\u001b[1;33m=\u001b[0m\u001b[1;32mNone\u001b[0m\u001b[1;33m,\u001b[0m \u001b[0mkeepdims\u001b[0m\u001b[1;33m=\u001b[0m\u001b[1;32mFalse\u001b[0m\u001b[1;33m)\u001b[0m\u001b[1;33m:\u001b[0m\u001b[1;33m\u001b[0m\u001b[0m\n\u001b[1;32m---> 32\u001b[1;33m     \u001b[1;32mreturn\u001b[0m \u001b[0mumr_sum\u001b[0m\u001b[1;33m(\u001b[0m\u001b[0ma\u001b[0m\u001b[1;33m,\u001b[0m \u001b[0maxis\u001b[0m\u001b[1;33m,\u001b[0m \u001b[0mdtype\u001b[0m\u001b[1;33m,\u001b[0m \u001b[0mout\u001b[0m\u001b[1;33m,\u001b[0m \u001b[0mkeepdims\u001b[0m\u001b[1;33m)\u001b[0m\u001b[1;33m\u001b[0m\u001b[0m\n\u001b[0m\u001b[0;32m     33\u001b[0m \u001b[1;33m\u001b[0m\u001b[0m\n\u001b[0;32m     34\u001b[0m \u001b[1;32mdef\u001b[0m \u001b[0m_prod\u001b[0m\u001b[1;33m(\u001b[0m\u001b[0ma\u001b[0m\u001b[1;33m,\u001b[0m \u001b[0maxis\u001b[0m\u001b[1;33m=\u001b[0m\u001b[1;32mNone\u001b[0m\u001b[1;33m,\u001b[0m \u001b[0mdtype\u001b[0m\u001b[1;33m=\u001b[0m\u001b[1;32mNone\u001b[0m\u001b[1;33m,\u001b[0m \u001b[0mout\u001b[0m\u001b[1;33m=\u001b[0m\u001b[1;32mNone\u001b[0m\u001b[1;33m,\u001b[0m \u001b[0mkeepdims\u001b[0m\u001b[1;33m=\u001b[0m\u001b[1;32mFalse\u001b[0m\u001b[1;33m)\u001b[0m\u001b[1;33m:\u001b[0m\u001b[1;33m\u001b[0m\u001b[0m\n",
      "\u001b[1;31mTypeError\u001b[0m: 'list' object cannot be interpreted as an integer"
     ]
    }
   ],
   "source": [
    "A = np.random.rand(3,4,5)\n",
    "A.shape\n",
    "np.sum(A,axis=[1,2])"
   ]
  },
  {
   "cell_type": "code",
   "execution_count": 24,
   "metadata": {},
   "outputs": [
    {
     "data": {
      "text/plain": [
       "(4, 3, 2)"
      ]
     },
     "execution_count": 24,
     "metadata": {},
     "output_type": "execute_result"
    }
   ],
   "source": [
    "part.pw_dt.shape\n",
    "# part.pos"
   ]
  },
  {
   "cell_type": "code",
   "execution_count": 27,
   "metadata": {},
   "outputs": [
    {
     "data": {
      "text/plain": [
       "(40, 6)"
      ]
     },
     "execution_count": 27,
     "metadata": {},
     "output_type": "execute_result"
    }
   ],
   "source": [
    "z = part.get_pw_gap()\n",
    "# z=np.rollaxis(z,-1,0)\n",
    "# z.reshape([:,-1])\n",
    "z.shape\n",
    "# z"
   ]
  },
  {
   "cell_type": "code",
   "execution_count": 20,
   "metadata": {},
   "outputs": [],
   "source": [
    "np.reshape?"
   ]
  },
  {
   "cell_type": "code",
   "execution_count": 3,
   "metadata": {},
   "outputs": [
    {
     "data": {
      "text/plain": [
       "array([[-0.01002595,  1.67080819, -0.66437971],\n",
       "       [-0.60555494,  0.26551159,  0.10854853],\n",
       "       [ 1.49057364,  0.75636693,  0.46964093],\n",
       "       [-0.23396259,  1.484537  , -1.07980489],\n",
       "       [ 2.18032831,  0.19046688,  1.2616859 ],\n",
       "       [ 0.41765968, -0.26731719, -0.54930901],\n",
       "       [ 0.80705192,  2.14180538, -0.49561818],\n",
       "       [ 0.52563742,  0.66023155, -0.35087189],\n",
       "       [-0.34971048, -1.05272652,  1.28227668],\n",
       "       [-0.17180538,  2.39470366,  0.91745894],\n",
       "       [-1.06828657, -1.22769205, -1.79857302],\n",
       "       [-0.68520734,  0.31935642,  0.4609029 ],\n",
       "       [ 2.52330509,  0.3473178 , -0.88735951],\n",
       "       [-1.05961725,  1.98508459,  1.74481415],\n",
       "       [ 0.43295951, -0.00449346, -1.86472139],\n",
       "       [-0.60772586, -0.06191203, -0.75389296],\n",
       "       [-0.10197468, -0.31608082, -1.7764482 ],\n",
       "       [ 0.56051783, -0.14436676, -0.40013835],\n",
       "       [-1.2396806 , -0.59347881, -0.43817284],\n",
       "       [ 0.28143276, -0.31282876, -0.34888192],\n",
       "       [-1.52114107,  0.23610191,  0.69714806],\n",
       "       [-0.19580128,  1.38323223,  0.34623312],\n",
       "       [-0.77140026,  0.45838448,  1.76362535],\n",
       "       [-0.65081256,  1.33992631,  0.02930971],\n",
       "       [-1.30427581,  0.38600302, -1.75898506],\n",
       "       [-0.55055907,  0.37775309,  1.61440797],\n",
       "       [ 1.3509555 ,  0.47331997,  0.32059671],\n",
       "       [ 1.08305228, -0.70707145,  0.54666484],\n",
       "       [-0.31946926,  0.33833142, -0.29545257],\n",
       "       [ 1.6557678 ,  0.27417278, -0.51490992],\n",
       "       [ 0.979461  , -1.2967198 , -0.55064676],\n",
       "       [ 1.12348185,  1.00686114, -0.29442601],\n",
       "       [ 0.80256595, -0.40177066, -0.10296417],\n",
       "       [-0.18296753, -0.39098219,  1.25517373],\n",
       "       [-0.93446509,  1.35481799,  0.47683236],\n",
       "       [ 0.40722114, -1.13047529, -1.94129968],\n",
       "       [ 0.40246909, -0.37276142, -0.67202344],\n",
       "       [ 0.10581208,  1.18058023, -0.51458875],\n",
       "       [ 0.68790473, -1.53306872,  0.1489607 ],\n",
       "       [ 0.31511117,  0.22781736,  0.24917866]])"
      ]
     },
     "execution_count": 3,
     "metadata": {},
     "output_type": "execute_result"
    }
   ],
   "source": [
    "part.vel"
   ]
  },
  {
   "cell_type": "code",
   "execution_count": 35,
   "metadata": {},
   "outputs": [],
   "source": [
    "def rand_pos(pos):\n",
    "    z = rnd.uniform(-side, side, size=[1,dim])\n",
    "    return np.vstack([pos,z])\n",
    "    \n",
    "pos = np.empty([0,dim])\n",
    "for p in range(num_part):\n",
    "    pos = rand_pos(pos)\n"
   ]
  },
  {
   "cell_type": "code",
   "execution_count": 20,
   "metadata": {},
   "outputs": [
    {
     "name": "stdout",
     "output_type": "stream",
     "text": [
      "(0,)\n"
     ]
    },
    {
     "ename": "ValueError",
     "evalue": "all the input array dimensions except for the concatenation axis must match exactly",
     "output_type": "error",
     "traceback": [
      "\u001b[1;31m---------------------------------------------------------------------------\u001b[0m",
      "\u001b[1;31mValueError\u001b[0m                                Traceback (most recent call last)",
      "\u001b[1;32m<ipython-input-20-c8f87b408628>\u001b[0m in \u001b[0;36m<module>\u001b[1;34m()\u001b[0m\n\u001b[0;32m      3\u001b[0m \u001b[0mprint\u001b[0m\u001b[1;33m(\u001b[0m\u001b[0my\u001b[0m\u001b[1;33m.\u001b[0m\u001b[0mshape\u001b[0m\u001b[1;33m)\u001b[0m\u001b[1;33m\u001b[0m\u001b[0m\n\u001b[0;32m      4\u001b[0m \u001b[0mx\u001b[0m \u001b[1;33m=\u001b[0m \u001b[0mnp\u001b[0m\u001b[1;33m.\u001b[0m\u001b[0marange\u001b[0m\u001b[1;33m(\u001b[0m\u001b[1;36m3\u001b[0m\u001b[1;33m)\u001b[0m\u001b[1;33m\u001b[0m\u001b[0m\n\u001b[1;32m----> 5\u001b[1;33m \u001b[0my\u001b[0m \u001b[1;33m=\u001b[0m \u001b[0mnp\u001b[0m\u001b[1;33m.\u001b[0m\u001b[0mvstack\u001b[0m\u001b[1;33m(\u001b[0m\u001b[1;33m[\u001b[0m\u001b[0my\u001b[0m\u001b[1;33m,\u001b[0m\u001b[0mx\u001b[0m\u001b[1;33m]\u001b[0m\u001b[1;33m)\u001b[0m\u001b[1;33m\u001b[0m\u001b[0m\n\u001b[0m\u001b[0;32m      6\u001b[0m \u001b[0my\u001b[0m \u001b[1;33m=\u001b[0m \u001b[0mnp\u001b[0m\u001b[1;33m.\u001b[0m\u001b[0mvstack\u001b[0m\u001b[1;33m(\u001b[0m\u001b[1;33m[\u001b[0m\u001b[0my\u001b[0m\u001b[1;33m,\u001b[0m\u001b[0mx\u001b[0m\u001b[1;33m]\u001b[0m\u001b[1;33m)\u001b[0m\u001b[1;33m\u001b[0m\u001b[0m\n\u001b[0;32m      7\u001b[0m \u001b[0my\u001b[0m\u001b[1;33m.\u001b[0m\u001b[0mshape\u001b[0m\u001b[1;33m\u001b[0m\u001b[0m\n",
      "\u001b[1;32mC:\\ProgramData\\Anaconda3\\lib\\site-packages\\numpy\\core\\shape_base.py\u001b[0m in \u001b[0;36mvstack\u001b[1;34m(tup)\u001b[0m\n\u001b[0;32m    232\u001b[0m \u001b[1;33m\u001b[0m\u001b[0m\n\u001b[0;32m    233\u001b[0m     \"\"\"\n\u001b[1;32m--> 234\u001b[1;33m     \u001b[1;32mreturn\u001b[0m \u001b[0m_nx\u001b[0m\u001b[1;33m.\u001b[0m\u001b[0mconcatenate\u001b[0m\u001b[1;33m(\u001b[0m\u001b[1;33m[\u001b[0m\u001b[0matleast_2d\u001b[0m\u001b[1;33m(\u001b[0m\u001b[0m_m\u001b[0m\u001b[1;33m)\u001b[0m \u001b[1;32mfor\u001b[0m \u001b[0m_m\u001b[0m \u001b[1;32min\u001b[0m \u001b[0mtup\u001b[0m\u001b[1;33m]\u001b[0m\u001b[1;33m,\u001b[0m \u001b[1;36m0\u001b[0m\u001b[1;33m)\u001b[0m\u001b[1;33m\u001b[0m\u001b[0m\n\u001b[0m\u001b[0;32m    235\u001b[0m \u001b[1;33m\u001b[0m\u001b[0m\n\u001b[0;32m    236\u001b[0m \u001b[1;32mdef\u001b[0m \u001b[0mhstack\u001b[0m\u001b[1;33m(\u001b[0m\u001b[0mtup\u001b[0m\u001b[1;33m)\u001b[0m\u001b[1;33m:\u001b[0m\u001b[1;33m\u001b[0m\u001b[0m\n",
      "\u001b[1;31mValueError\u001b[0m: all the input array dimensions except for the concatenation axis must match exactly"
     ]
    }
   ],
   "source": [
    "y = np.empty([0,3])\n",
    "x = np.arange(3)\n",
    "y = np.vstack([y,x])\n",
    "y = np.vstack([y,x])\n",
    "y.shape\n",
    "y"
   ]
  },
  {
   "cell_type": "code",
   "execution_count": 4,
   "metadata": {},
   "outputs": [
    {
     "data": {
      "text/plain": [
       "array([], shape=(0, 2), dtype=float64)"
      ]
     },
     "execution_count": 4,
     "metadata": {},
     "output_type": "execute_result"
    }
   ],
   "source": [
    "pos"
   ]
  }
 ],
 "metadata": {
  "kernelspec": {
   "display_name": "Python 3",
   "language": "python",
   "name": "python3"
  },
  "language_info": {
   "codemirror_mode": {
    "name": "ipython",
    "version": 3
   },
   "file_extension": ".py",
   "mimetype": "text/x-python",
   "name": "python",
   "nbconvert_exporter": "python",
   "pygments_lexer": "ipython3",
   "version": "3.6.4"
  }
 },
 "nbformat": 4,
 "nbformat_minor": 2
}
