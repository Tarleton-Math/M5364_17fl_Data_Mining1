{
 "cells": [
  {
   "cell_type": "markdown",
   "metadata": {},
   "source": [
    "## Homework 03\n",
    "### Math 5364 - Data Mining 1, Fall 2017, Tarleton State Univ, Dr. Scott Cook\n",
    "### Due Sunday 10/07/2017 at midnight"
   ]
  },
  {
   "cell_type": "markdown",
   "metadata": {},
   "source": [
    "The purpose of this homework is to practice Pandas.\n",
    "- Get the online retail data set from the UCI machine learning archive\n",
    "http://archive.ics.uci.edu/ml/datasets/Online+Retail.  Let's think of ourselves as consultants for this UK-based company.  We are trying to convert their data into usable suggestions to improve their bottom line.\n",
    "- Load into a pandas dataframe df.  This may take a bit, because it contains > 500,000 rows\n",
    "- Create a \"total_sale\" column for each row which is price * quantity\n",
    "\n",
    "\n",
    "1. Use grouby and .describe to give summary statistics for each country.\n",
    "    1. Sort this table by transaction count, largest on top.\n",
    "    1. Now, sort by mean total sale.  Do you observe anything that might be valuable to the company?  Specifically, what is up with the UK?  What about the US?  Explain the negative numbers.  Should these by considered anomalies and thrown out?\n",
    "    \n",
    "1. Let's look for countries where one item dominates the other items we sell.  I mean ... if the Russian REALLY love our \"CREAM CUPID HEARTS COAT HANGER\", we should advertise that item heavily there, right?  So, for each country, find the 5 items with highest total sales.  Report the item name AND what proportion of the total sales in that country come from the item.  Sort report on this number.  In other words, sort the output so that countries with a single item that dominates appear on top, and countries with a even distribution appear on bottom.\n",
    "\n",
    "1.  Rank the countries by who buys the most expensive stuff.  For each country, compute total_sales / total_items.  (Note: not the same as average UnitPrice - do not commit Simpson's Paradox https://en.wikipedia.org/wiki/Simpson%27s_paradox).  Report with largest on top.\n",
    "\n",
    "1. Rank the countries by their record of returns.  Repeat above but only include negative transactions and sort highest negative numbers to the top.\n",
    "\n",
    "1. thru 8. Now create a new series connecting each country where we sell to its continent.  Do a many-to-one join to bring that continent into df.  Repeat all the analyses above at the continent level.\n",
    "\n",
    "\n"
   ]
  }
 ],
 "metadata": {
  "kernelspec": {
   "display_name": "Python 3",
   "language": "python",
   "name": "python3"
  },
  "language_info": {
   "codemirror_mode": {
    "name": "ipython",
    "version": 3
   },
   "file_extension": ".py",
   "mimetype": "text/x-python",
   "name": "python",
   "nbconvert_exporter": "python",
   "pygments_lexer": "ipython3",
   "version": "3.6.1"
  }
 },
 "nbformat": 4,
 "nbformat_minor": 2
}
