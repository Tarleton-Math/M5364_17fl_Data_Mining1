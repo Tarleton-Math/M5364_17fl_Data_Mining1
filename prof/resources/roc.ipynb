{
 "cells": [
  {
   "cell_type": "code",
   "execution_count": 1,
   "metadata": {},
   "outputs": [
    {
     "name": "stdout",
     "output_type": "stream",
     "text": [
      "Original, full data\n",
      "{'C': 100, 'kernel': 'linear'} 0.96309314587\n",
      "Wall time: 1min 25s\n",
      "Scaled, full data\n",
      "{'C': 100, 'kernel': 'sigmoid'} 0.980667838313\n",
      "Wall time: 356 ms\n",
      "PCA_2 data\n",
      "{'C': 1, 'kernel': 'linear'} 0.922671353251\n",
      "Wall time: 6min 14s\n"
     ]
    }
   ],
   "source": [
    "import numpy as np\n",
    "import pandas as pd\n",
    "import matplotlib.pyplot as plt\n",
    "from sklearn.datasets import load_breast_cancer\n",
    "from sklearn.svm import SVC\n",
    "\n",
    "data = load_breast_cancer()\n",
    "X, y = data.data, data.target\n",
    "\n",
    "def fit_models(X):\n",
    "    param_grid = {'kernel': ['linear','rbf','sigmoid'], 'C': [1,10,100]}#,1e9]}\n",
    "#     param_grid = {'kernel': ['linear','rbf'], 'C': [1,10,100,1e9]}\n",
    "    grid = GridSearchCV(SVC(), param_grid, cv=5)\n",
    "    grid.fit(X, y);\n",
    "    print(grid.best_params_, grid.best_score_)\n",
    "    return grid\n",
    "    \n",
    "print('Original, full data')\n",
    "%time orig_grid = fit_models(X)\n",
    "\n",
    "print('Scaled, full data')\n",
    "%time scaled_grid = fit_models(MinMaxScaler().fit_transform(X))\n",
    "\n",
    "print('PCA_2 data')\n",
    "%time pca_grid = fit_models(PCA(n_components=2).fit_transform(X))"
   ]
  },
  {
   "cell_type": "code",
   "execution_count": 8,
   "metadata": {},
   "outputs": [
    {
     "data": {
      "text/plain": [
       "{'C': 100, 'kernel': 'sigmoid'}"
      ]
     },
     "execution_count": 8,
     "metadata": {},
     "output_type": "execute_result"
    }
   ],
   "source": [
    "scaled_grid.best_params_"
   ]
  },
  {
   "cell_type": "code",
   "execution_count": 2,
   "metadata": {},
   "outputs": [
    {
     "data": {
      "image/png": "[encoded data removed]",
      "text/plain": [
       "<matplotlib.figure.Figure at 0x1d8cf7e1e80>"
      ]
     },
     "metadata": {},
     "output_type": "display_data"
    },
    {
     "name": "stdout",
     "output_type": "stream",
     "text": [
      "0.993895671476\n",
      "0.993895671476\n"
     ]
    }
   ],
   "source": [
    "import numpy as np\n",
    "import pandas as pd\n",
    "import matplotlib.pyplot as plt\n",
    "from sklearn.datasets import load_breast_cancer\n",
    "from sklearn.svm import SVC\n",
    "from sklearn.preprocessing import MinMaxScaler\n",
    "from sklearn.metrics import roc_curve, roc_auc_score\n",
    "\n",
    "data = load_breast_cancer()\n",
    "X, y = data.data, data.target\n",
    "scale_r = MinMaxScaler().fit(X)\n",
    "X_scale = scale_r.transform(X)\n",
    "\n",
    "clf = SVC(C=10,kernel='sigmoid',probability=True)\n",
    "model = clf.fit(X_scale,y)\n",
    "\n",
    "scores = model.decision_function(X_scale)\n",
    "# if scores[i] < 0, obs i is on the class 0 side of boundary, if scores[i] > 0, obs i is on the class 1 side of boundary\n",
    "# more extreme score[i] -> farther from boundary -> more certain prediction\n",
    "\n",
    "probs = model.predict_proba(X_scale)\n",
    "# get posterior distribution probs[i,j] = prob obs i is class j\n",
    "# negative score[i] -> big prob[i,0] and small prob[i,1]\n",
    "# positive score[i] -> small prob[i,0] and big prob[i,1]\n",
    "\n",
    "# so score[i] and prob[i,1] increase together.  In other words, they can be used interchangeably.\n",
    "# Let's check that they give the same roc curve\n",
    "\n",
    "score_fpr, score_tpr, score_thresholds = roc_curve(y, scores)\n",
    "prob_fpr, prob_tpr, prob_thresholds = roc_curve(y, probs[:,1])\n",
    "\n",
    "plt.plot(score_fpr,score_tpr)\n",
    "plt.plot(prob_fpr,prob_tpr)\n",
    "plt.show()\n",
    "print(roc_auc_score(y, scores))\n",
    "print(roc_auc_score(y, probs[:,1]))\n",
    "\n",
    "# Now, decision_function is much more efficient and reliable for SVM than the proba score.  So, from now on, we'll rely on it."
   ]
  }
 ],
 "metadata": {
  "kernelspec": {
   "display_name": "Python 3",
   "language": "python",
   "name": "python3"
  },
  "language_info": {
   "codemirror_mode": {
    "name": "ipython",
    "version": 3
   },
   "file_extension": ".py",
   "mimetype": "text/x-python",
   "name": "python",
   "nbconvert_exporter": "python",
   "pygments_lexer": "ipython3",
   "version": "3.6.3"
  }
 },
 "nbformat": 4,
 "nbformat_minor": 2
}
